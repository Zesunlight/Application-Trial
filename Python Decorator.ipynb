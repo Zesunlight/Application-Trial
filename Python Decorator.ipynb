{
 "cells": [
  {
   "cell_type": "markdown",
   "metadata": {},
   "source": [
    "#  Decorator"
   ]
  },
  {
   "cell_type": "code",
   "execution_count": 34,
   "metadata": {},
   "outputs": [],
   "source": [
    "import time"
   ]
  },
  {
   "cell_type": "code",
   "execution_count": 37,
   "metadata": {},
   "outputs": [],
   "source": [
    "def running_time(text = \"default\"):\n",
    "    def decorator(func):\n",
    "        print(f\"decorator: {text}\")\n",
    "        def wrapper(*args, **kwargs):\n",
    "            print(f\"calling {func.__name__}\")\n",
    "            before = time.time()\n",
    "            result = func(*args, **kwargs)\n",
    "            after = time.time()\n",
    "            print(f\"elapsed: {after - before}\")\n",
    "            return result\n",
    "        return wrapper\n",
    "    return decorator"
   ]
  },
  {
   "cell_type": "code",
   "execution_count": 38,
   "metadata": {},
   "outputs": [
    {
     "name": "stdout",
     "output_type": "stream",
     "text": [
      "decorator: test\n",
      "calling f\n",
      "f()\n",
      "elapsed: 0.0\n",
      "5\n"
     ]
    }
   ],
   "source": [
    "@running_time(\"test\")\n",
    "def f():\n",
    "    print(\"f()\")\n",
    "    return 5\n",
    "\n",
    "a = f()\n",
    "print(a)"
   ]
  },
  {
   "cell_type": "code",
   "execution_count": null,
   "metadata": {},
   "outputs": [],
   "source": []
  }
 ],
 "metadata": {
  "kernelspec": {
   "display_name": "Python 3",
   "language": "python",
   "name": "python3"
  },
  "language_info": {
   "codemirror_mode": {
    "name": "ipython",
    "version": 3
   },
   "file_extension": ".py",
   "mimetype": "text/x-python",
   "name": "python",
   "nbconvert_exporter": "python",
   "pygments_lexer": "ipython3",
   "version": "3.6.8"
  }
 },
 "nbformat": 4,
 "nbformat_minor": 2
}
